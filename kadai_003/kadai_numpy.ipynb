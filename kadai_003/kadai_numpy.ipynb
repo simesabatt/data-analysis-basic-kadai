{
  "nbformat": 4,
  "nbformat_minor": 0,
  "metadata": {
    "colab": {
      "provenance": []
    },
    "kernelspec": {
      "name": "python3",
      "display_name": "Python 3"
    },
    "language_info": {
      "name": "python"
    }
  },
  "cells": [
    {
      "cell_type": "code",
      "execution_count": 18,
      "metadata": {
        "colab": {
          "base_uri": "https://localhost:8080/"
        },
        "id": "533SnP8e_Qlf",
        "outputId": "4042f6a9-8d75-451f-ad83-4d62cc8581cc"
      },
      "outputs": [
        {
          "output_type": "stream",
          "name": "stdout",
          "text": [
            "A行列 = \n",
            "[[0 1]\n",
            " [2 3]\n",
            " [4 5]]\n",
            "\n",
            "B行列 = \n",
            "[[0 1 2 3]\n",
            " [4 5 6 7]]\n",
            "\n",
            "A･Bの演算結果:\n",
            "[[ 4  5  6  7]\n",
            " [12 17 22 27]\n",
            " [20 29 38 47]]\n",
            "\n",
            "A･Bの演算結果要素の最大値:\n",
            "47\n"
          ]
        }
      ],
      "source": [
        "import numpy as np\n",
        "\n",
        "A = np.arange(6).reshape(3, 2)\n",
        "print(\"A行列 = \")\n",
        "print(A)\n",
        "print()\n",
        "B = np.arange(8).reshape(2, 4)\n",
        "print(\"B行列 = \")\n",
        "print(B)\n",
        "print()\n",
        "dot_AB = np.dot(A, B)\n",
        "print(\"A･Bの演算結果:\")\n",
        "print(dot_AB)\n",
        "print()\n",
        "dot_AB_max = dot_AB.max()\n",
        "print(\"A･Bの演算結果要素の最大値:\")\n",
        "print(dot_AB_max)"
      ]
    },
    {
      "cell_type": "code",
      "source": [],
      "metadata": {
        "id": "YEUWKUD0_qLO"
      },
      "execution_count": null,
      "outputs": []
    }
  ]
}